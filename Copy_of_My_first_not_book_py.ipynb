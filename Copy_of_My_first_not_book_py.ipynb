{
  "nbformat": 4,
  "nbformat_minor": 0,
  "metadata": {
    "colab": {
      "name": "Copy of My first not book.py",
      "provenance": [],
      "collapsed_sections": [],
      "authorship_tag": "ABX9TyMeCauCcwJRUzebvxk5BdF4",
      "include_colab_link": true
    },
    "kernelspec": {
      "name": "python3",
      "display_name": "Python 3"
    },
    "language_info": {
      "name": "python"
    },
    "accelerator": "GPU"
  },
  "cells": [
    {
      "cell_type": "markdown",
      "metadata": {
        "id": "view-in-github",
        "colab_type": "text"
      },
      "source": [
        "<a href=\"https://colab.research.google.com/github/Gopi-chevuri/ML-2021/blob/main/Copy_of_My_first_not_book_py.ipynb\" target=\"_parent\"><img src=\"https://colab.research.google.com/assets/colab-badge.svg\" alt=\"Open In Colab\"/></a>"
      ]
    },
    {
      "cell_type": "code",
      "metadata": {
        "colab": {
          "base_uri": "https://localhost:8080/"
        },
        "id": "wm2W5s-vlmk7",
        "outputId": "d7b9591c-90c4-4d84-ede9-bd5dd8aeac88"
      },
      "source": [
        "a=1\n",
        "b=2\n",
        "c=(a+b)\n",
        "print(c)"
      ],
      "execution_count": null,
      "outputs": [
        {
          "output_type": "stream",
          "text": [
            "3\n"
          ],
          "name": "stdout"
        }
      ]
    },
    {
      "cell_type": "markdown",
      "metadata": {
        "id": "MNI5v23qmATO"
      },
      "source": [
        "Above program determines addition of two numbers"
      ]
    },
    {
      "cell_type": "markdown",
      "metadata": {
        "id": "XULxoDSFpEei"
      },
      "source": [
        "Program to find product of two numbers \n",
        "Example 3x4=12"
      ]
    },
    {
      "cell_type": "code",
      "metadata": {
        "colab": {
          "base_uri": "https://localhost:8080/"
        },
        "id": "SVQSnfu_pfzt",
        "outputId": "f826829d-72a7-4bee-9dbc-88be0a9313cd"
      },
      "source": [
        "a=3\n",
        "b=4\n",
        "c=(a*b)\n",
        "print(c)"
      ],
      "execution_count": null,
      "outputs": [
        {
          "output_type": "stream",
          "text": [
            "12\n"
          ],
          "name": "stdout"
        }
      ]
    },
    {
      "cell_type": "markdown",
      "metadata": {
        "id": "WIPzXKr8pzOX"
      },
      "source": [
        " \n",
        "Program to find division of to numbers\n",
        "Example 1/2=0.5"
      ]
    },
    {
      "cell_type": "code",
      "metadata": {
        "colab": {
          "base_uri": "https://localhost:8080/"
        },
        "id": "yqIE_PSSqbDC",
        "outputId": "82660d10-ca11-430a-e028-e04a8ee8e69f"
      },
      "source": [
        "a=1\n",
        "b=2\n",
        "c=(a/b)\n",
        "print(c)"
      ],
      "execution_count": null,
      "outputs": [
        {
          "output_type": "stream",
          "text": [
            "0.5\n"
          ],
          "name": "stdout"
        }
      ]
    },
    {
      "cell_type": "markdown",
      "metadata": {
        "id": "jdrRkcKurBVE"
      },
      "source": [
        "Program to find the difference of two numbers\n",
        "Example 1-2=-1"
      ]
    },
    {
      "cell_type": "code",
      "metadata": {
        "colab": {
          "base_uri": "https://localhost:8080/"
        },
        "id": "ULTraRvOry8e",
        "outputId": "904890ce-73b1-4b57-c709-f9eaeff83905"
      },
      "source": [
        "a=1\n",
        "b=2\n",
        "c=(a-b)\n",
        "print(c)"
      ],
      "execution_count": null,
      "outputs": [
        {
          "output_type": "stream",
          "text": [
            "-1\n"
          ],
          "name": "stdout"
        }
      ]
    }
  ]
}