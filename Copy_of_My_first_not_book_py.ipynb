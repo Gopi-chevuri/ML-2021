{
  "nbformat": 4,
  "nbformat_minor": 0,
  "metadata": {
    "colab": {
      "name": "Copy of My first not book.py",
      "provenance": [],
      "authorship_tag": "ABX9TyNnoJpGC/gIqvTm3L3PSTrl",
      "include_colab_link": true
    },
    "kernelspec": {
      "name": "python3",
      "display_name": "Python 3"
    },
    "language_info": {
      "name": "python"
    },
    "accelerator": "GPU"
  },
  "cells": [
    {
      "cell_type": "markdown",
      "metadata": {
        "id": "view-in-github",
        "colab_type": "text"
      },
      "source": [
        "<a href=\"https://colab.research.google.com/github/Gopi-chevuri/ML-2021/blob/main/Copy_of_My_first_not_book_py.ipynb\" target=\"_parent\"><img src=\"https://colab.research.google.com/assets/colab-badge.svg\" alt=\"Open In Colab\"/></a>"
      ]
    },
    {
      "cell_type": "code",
      "metadata": {
        "colab": {
          "base_uri": "https://localhost:8080/"
        },
        "id": "wm2W5s-vlmk7",
        "outputId": "d7b9591c-90c4-4d84-ede9-bd5dd8aeac88"
      },
      "source": [
        "a=1\n",
        "b=2\n",
        "c=(a+b)\n",
        "print(c)"
      ],
      "execution_count": 3,
      "outputs": [
        {
          "output_type": "stream",
          "text": [
            "3\n"
          ],
          "name": "stdout"
        }
      ]
    },
    {
      "cell_type": "markdown",
      "metadata": {
        "id": "MNI5v23qmATO"
      },
      "source": [
        "Above program determines addition of two numbers"
      ]
    }
  ]
}