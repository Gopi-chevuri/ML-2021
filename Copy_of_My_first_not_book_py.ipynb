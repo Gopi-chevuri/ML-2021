{
  "nbformat": 4,
  "nbformat_minor": 0,
  "metadata": {
    "colab": {
      "name": "Copy of My first not book.py",
      "provenance": [],
      "authorship_tag": "ABX9TyPMJSNGuu/wYYuEzA5gUbBY",
      "include_colab_link": true
    },
    "kernelspec": {
      "name": "python3",
      "display_name": "Python 3"
    },
    "language_info": {
      "name": "python"
    },
    "accelerator": "GPU"
  },
  "cells": [
    {
      "cell_type": "markdown",
      "metadata": {
        "id": "view-in-github",
        "colab_type": "text"
      },
      "source": [
        "<a href=\"https://colab.research.google.com/github/Gopi-chevuri/ML-2021/blob/main/Copy_of_My_first_not_book_py.ipynb\" target=\"_parent\"><img src=\"https://colab.research.google.com/assets/colab-badge.svg\" alt=\"Open In Colab\"/></a>"
      ]
    },
    {
      "cell_type": "markdown",
      "metadata": {
        "id": "Rr5stibY1QZM"
      },
      "source": [
        " Program to add two integers"
      ]
    },
    {
      "cell_type": "code",
      "metadata": {
        "id": "E3OfmCYl1af3"
      },
      "source": [
        "a=10\n",
        "b=10\n",
        "c=a+b\n",
        "Print(c)"
      ],
      "execution_count": null,
      "outputs": []
    }
  ]
}